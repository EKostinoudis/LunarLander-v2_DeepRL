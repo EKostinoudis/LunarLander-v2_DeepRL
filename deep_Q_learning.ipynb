{
 "cells": [
  {
   "cell_type": "code",
   "execution_count": 1,
   "id": "01336fff",
   "metadata": {},
   "outputs": [],
   "source": [
    "import gymnasium as gym\n",
    "import numpy as np\n",
    "import torch\n",
    "import torch.nn as nn\n",
    "import torch.nn.functional as F\n",
    "import torch.optim as optim\n",
    "import random\n",
    "\n",
    "# device = torch.device(\"cuda\" if torch.cuda.is_available() else \"cpu\")\n",
    "device = \"cpu\""
   ]
  },
  {
   "cell_type": "code",
   "execution_count": 2,
   "id": "4e7bb683",
   "metadata": {},
   "outputs": [],
   "source": [
    "class Q_Net(nn.Module):\n",
    "    def __init__(self, num_states, num_actions):\n",
    "        super().__init__()\n",
    "        self.fc1 = nn.Linear(num_states, 64)\n",
    "        self.fc2 = nn.Linear(64, 64)\n",
    "        self.fc3 = nn.Linear(64, num_actions)\n",
    "    \n",
    "    def forward(self, x):\n",
    "        x = F.relu(self.fc1(x))\n",
    "        x = F.relu(self.fc2(x))\n",
    "        return self.fc3(x)"
   ]
  },
  {
   "cell_type": "code",
   "execution_count": 3,
   "id": "cd9087be",
   "metadata": {},
   "outputs": [],
   "source": [
    "env = gym.make(\"LunarLander-v2\")\n",
    "\n",
    "state, _ = env.reset(seed=69)\n",
    "num_states = len(state)\n",
    "num_actions = env.action_space.n\n",
    "\n",
    "policy_Q = Q_Net(num_states, num_actions).to(device)\n",
    "target_Q = Q_Net(num_states, num_actions).to(device)\n",
    "target_Q.load_state_dict(policy_Q.state_dict()) # same weights\n",
    "\n",
    "criterion = nn.MSELoss()\n",
    "\n",
    "from collections import deque\n",
    "replay_memory = deque([], 10_000)\n",
    "\n",
    "optimizer = optim.Adam(policy_Q.parameters(), lr=1e-3)"
   ]
  },
  {
   "cell_type": "code",
   "execution_count": 4,
   "id": "2fe594f1",
   "metadata": {},
   "outputs": [
    {
     "name": "stdout",
     "output_type": "stream",
     "text": [
      "0100: Steps: 16238\tAvg reward: -113.60\teps: 0.2176\ttime: 39.53\n",
      "0200: Steps: 73794\tAvg reward: 85.89\teps: 0.0505\ttime: 144.522\n",
      "0300: Steps: 122173\tAvg reward: 146.41\teps: 0.0500\ttime: 126.30\n",
      "0400: Steps: 148886\tAvg reward: 91.82\teps: 0.0500\ttime: 67.5445\n",
      "0500: Steps: 179787\tAvg reward: 224.60\teps: 0.0500\ttime: 79.22\n",
      "0600: Steps: 207447\tAvg reward: 199.07\teps: 0.0500\ttime: 79.08\n",
      "0700: Steps: 256895\tAvg reward: 125.83\teps: 0.0500\ttime: 133.34\n",
      "0800: Steps: 289848\tAvg reward: 245.79\teps: 0.0500\ttime: 86.77\n",
      "0900: Steps: 324177\tAvg reward: 206.82\teps: 0.0500\ttime: 91.83\n",
      "1000: Steps: 360288\tAvg reward: 268.01\teps: 0.0500\ttime: 96.17\n",
      "1100: Steps: 399128\tAvg reward: 203.66\teps: 0.0500\ttime: 108.40\n",
      "1200: Steps: 435868\tAvg reward: 253.40\teps: 0.0500\ttime: 150.94\n",
      "1300: Steps: 462761\tAvg reward: 294.40\teps: 0.0500\ttime: 66.39\n",
      "1400: Steps: 493615\tAvg reward: 161.74\teps: 0.0500\ttime: 74.74\n",
      "1500: Steps: 526958\tAvg reward: 239.59\teps: 0.0500\ttime: 80.95\n",
      "1600: Steps: 557074\tAvg reward: 217.50\teps: 0.0500\ttime: 73.78\n",
      "1700: Steps: 584554\tAvg reward: 179.55\teps: 0.0500\ttime: 67.16\n",
      "1800: Steps: 615580\tAvg reward: 181.87\teps: 0.0500\ttime: 75.42\n",
      "1900: Steps: 654031\tAvg reward: 33.07\teps: 0.0500\ttime: 93.4552\n",
      "1990: Steps: 687327\tAvg reward: 170.32\teps: 0.0500\ttime: 80.82"
     ]
    }
   ],
   "source": [
    "from itertools import count\n",
    "from time import time\n",
    "\n",
    "EPS_START = 0.9\n",
    "EPS_END = 0.05\n",
    "EPS_DECAY = 10_000\n",
    "GAMMA = 0.99\n",
    "BATCH_SIZE = 64\n",
    "TAU = 1e-3\n",
    "PRINT_INTERVAL = 10\n",
    "PRINT_INTERVAL_BIG = 100\n",
    "\n",
    "def update_target(policy_Q, target_Q, tau):\n",
    "    for target_param, policy_param in zip(target_Q.parameters(), policy_Q.parameters()):\n",
    "        target_param.data.copy_(tau*policy_param.data + (1.0-tau)*target_param.data)\n",
    "        \n",
    "def get_next_action(env, state, policy_Q, eps):\n",
    "    # select action\n",
    "    if random.random() < eps:\n",
    "        action = env.action_space.sample()\n",
    "    else:\n",
    "        with torch.no_grad():\n",
    "            action = policy_Q(state).argmax().item()\n",
    "    return action\n",
    "\n",
    "rewards_list, eps_list = [], []\n",
    "t0 = time()\n",
    "steps = 0\n",
    "for episode in range(2_000):\n",
    "    state, _ = env.reset(seed=69)\n",
    "    state = torch.tensor(state, dtype=torch.float32, device=device).unsqueeze(0)\n",
    "    \n",
    "    total_episode_reward = 0.\n",
    "    for t in count():\n",
    "        # perform the action\n",
    "        eps = EPS_END + (EPS_START - EPS_END) * np.exp(-1. * steps / EPS_DECAY)\n",
    "        action = get_next_action(env, state, policy_Q, eps)\n",
    "        \n",
    "        new_state, reward, terminated, truncated, _ = env.step(action)\n",
    "        done = terminated or truncated\n",
    "        new_state = torch.tensor(new_state, dtype=torch.float32, device=device).unsqueeze(0)\n",
    "            \n",
    "        # add to replay_memory\n",
    "        replay_memory.append((state, action, reward, new_state, done))\n",
    "            \n",
    "        # add new reward\n",
    "        total_episode_reward += reward\n",
    "        \n",
    "        state = new_state\n",
    "        \n",
    "        if len(replay_memory) < BATCH_SIZE: continue\n",
    "            \n",
    "        # sample batch\n",
    "        batch = random.sample(replay_memory, BATCH_SIZE)\n",
    "        state_batch, action_batch, reward_batch, new_state_batch, done_batch = zip(*batch)\n",
    "        \n",
    "        state_batch = torch.cat(state_batch)\n",
    "        new_state_batch = torch.cat(new_state_batch)\n",
    "        pred_Q = policy_Q(state_batch).gather(1, torch.tensor(action_batch, device=device).view(-1,1)).squeeze(1)\n",
    "        \n",
    "        with torch.no_grad():\n",
    "            next_Q = target_Q(new_state_batch).max(1)[0]\n",
    "        \n",
    "        reward_batch = torch.tensor(reward_batch, dtype=torch.float32, device=device)\n",
    "        done_batch = torch.tensor(done_batch, dtype=torch.float32, device=device)\n",
    "        y = (1.-done_batch)*next_Q*GAMMA + reward_batch\n",
    "        \n",
    "        loss = criterion(y, pred_Q)\n",
    "        \n",
    "        optimizer.zero_grad()\n",
    "        loss.backward()\n",
    "        # nn.utils.clip_grad_value_(policy_Q.parameters(), 100)\n",
    "        optimizer.step()\n",
    "        \n",
    "        update_target(policy_Q, target_Q, TAU)\n",
    "        steps += 1\n",
    "        \n",
    "        if done: break\n",
    "    rewards_list.append(total_episode_reward)\n",
    "    eps_list.append(eps)\n",
    "    \n",
    "    if episode % PRINT_INTERVAL == 0 and len(rewards_list) >= PRINT_INTERVAL:\n",
    "        print(f'\\r{episode:04d}: Steps: {steps}\\tAvg reward: {np.mean(rewards_list[-PRINT_INTERVAL:]):.02f}\\teps: {eps:.04f}\\ttime: {time()-t0:.02f}', end='')\n",
    "        if episode % PRINT_INTERVAL_BIG == 0:\n",
    "            print(f'\\r{episode:04d}: Steps: {steps}\\tAvg reward: {np.mean(rewards_list[-PRINT_INTERVAL_BIG:]):.02f}\\teps: {eps:.04f}\\ttime: {time()-t0:.02f}')\n",
    "            t0 = time()"
   ]
  },
  {
   "cell_type": "code",
   "execution_count": 5,
   "id": "4670edf3",
   "metadata": {},
   "outputs": [],
   "source": [
    "import os\n",
    "\n",
    "def save_plot(fig, name, folder=None):\n",
    "    '''Saves a figure'''\n",
    "    path = \"figures\"\n",
    "    if folder is not None:\n",
    "        path = os.path.join(path, folder)\n",
    "\n",
    "    if not os.path.exists(path):\n",
    "        os.makedirs(path)\n",
    "    fig.savefig(os.path.join(path, f\"{name}.png\"), bbox_inches='tight')\n",
    "\n",
    "def save_model(model, path, name):\n",
    "    '''Saves torch model'''\n",
    "    os.makedirs(path, exist_ok = True) \n",
    "    torch.save(model, os.path.join(path, name))\n",
    "\n",
    "save_model(policy_Q, 'models', 'dql_model.pth')"
   ]
  },
  {
   "cell_type": "code",
   "execution_count": 6,
   "id": "4b0b8d34",
   "metadata": {},
   "outputs": [
    {
     "data": {
      "image/png": "[encoded data removed]",
      "text/plain": [
       "<Figure size 432x288 with 2 Axes>"
      ]
     },
     "metadata": {
      "needs_background": "light"
     },
     "output_type": "display_data"
    }
   ],
   "source": [
    "import matplotlib.pyplot as plt\n",
    "\n",
    "fig, ax1 = plt.subplots()\n",
    "\n",
    "color = 'tab:red'\n",
    "ax1.set_xlabel('episode')\n",
    "ax1.set_ylabel('Sum of rewards', color=color)\n",
    "ax1.plot(rewards_list, color=color)\n",
    "ax1.tick_params(axis='y', labelcolor=color)\n",
    "\n",
    "ax2 = ax1.twinx()\n",
    "\n",
    "color = 'tab:blue'\n",
    "ax2.set_ylabel(r'$\\epsilon$ (random action probability)', color=color)\n",
    "ax2.plot(eps_list, color=color)\n",
    "ax2.tick_params(axis='y', labelcolor=color)\n",
    "\n",
    "fig.tight_layout()\n",
    "plt.show()\n",
    "\n",
    "# save plot\n",
    "save_plot(fig, 'reward_epsilon')"
   ]
  },
  {
   "cell_type": "code",
   "execution_count": 7,
   "id": "9b14463d",
   "metadata": {},
   "outputs": [
    {
     "name": "stdout",
     "output_type": "stream",
     "text": [
      "Moviepy - Building video video.mp4.\n",
      "Moviepy - Writing video video.mp4\n",
      "\n"
     ]
    },
    {
     "name": "stderr",
     "output_type": "stream",
     "text": [
      "                                                                                                                                                                          "
     ]
    },
    {
     "name": "stdout",
     "output_type": "stream",
     "text": [
      "Moviepy - Done !\n",
      "Moviepy - video ready video.mp4\n"
     ]
    },
    {
     "name": "stderr",
     "output_type": "stream",
     "text": [
      "\r"
     ]
    }
   ],
   "source": [
    "from gymnasium.wrappers.monitoring import video_recorder\n",
    "\n",
    "# record video of the result\n",
    "env = gym.make(\"LunarLander-v2\", render_mode=\"rgb_array\")\n",
    "video = video_recorder.VideoRecorder(env, path='video.mp4')\n",
    "state, _ = env.reset(seed=69)\n",
    "while True:\n",
    "    video.capture_frame()\n",
    "\n",
    "    # next action\n",
    "    with torch.no_grad():\n",
    "        action = policy_Q(torch.tensor(state, device=device)).argmax().item()\n",
    "\n",
    "    state, _, terminated, truncated, _ = env.step(action)\n",
    "    if terminated or truncated: break\n",
    "video.close()\n",
    "env.close()"
   ]
  },
  {
   "cell_type": "code",
   "execution_count": null,
   "id": "239efe61",
   "metadata": {},
   "outputs": [],
   "source": []
  },
  {
   "cell_type": "code",
   "execution_count": null,
   "id": "a12c789a",
   "metadata": {},
   "outputs": [],
   "source": []
  }
 ],
 "metadata": {
  "kernelspec": {
   "display_name": "Python 3 (ipykernel)",
   "language": "python",
   "name": "python3"
  },
  "language_info": {
   "codemirror_mode": {
    "name": "ipython",
    "version": 3
   },
   "file_extension": ".py",
   "mimetype": "text/x-python",
   "name": "python",
   "nbconvert_exporter": "python",
   "pygments_lexer": "ipython3",
   "version": "3.10.6"
  }
 },
 "nbformat": 4,
 "nbformat_minor": 5
}
